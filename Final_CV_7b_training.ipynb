{
  "nbformat": 4,
  "nbformat_minor": 0,
  "metadata": {
    "accelerator": "GPU",
    "colab": {
      "name": "Final_CV_7b_training.ipynb",
      "provenance": [],
      "collapsed_sections": []
    },
    "kernelspec": {
      "display_name": "Python 3",
      "name": "python3"
    },
    "language_info": {
      "name": "python"
    }
  },
  "cells": [
    {
      "cell_type": "markdown",
      "metadata": {
        "id": "Tf0D_xcx13Tg"
      },
      "source": [
        "Mounting Google Drive"
      ]
    },
    {
      "cell_type": "code",
      "metadata": {
        "colab": {
          "base_uri": "https://localhost:8080/"
        },
        "id": "SbU-DtRy0Vem",
        "outputId": "64c02816-8cfe-4c81-931a-c2a49629379d"
      },
      "source": [
        "from google.colab import drive\n",
        "drive.mount('/content/drive')\n",
        "\n",
        "# Give the base directory here\n",
        "base_dir = \"/content/drive/My Drive\""
      ],
      "execution_count": null,
      "outputs": [
        {
          "output_type": "stream",
          "text": [
            "Mounted at /content/drive\n"
          ],
          "name": "stdout"
        }
      ]
    },
    {
      "cell_type": "markdown",
      "metadata": {
        "id": "BOd7h4oj18vl"
      },
      "source": [
        "Importing Libraries"
      ]
    },
    {
      "cell_type": "code",
      "metadata": {
        "id": "d9Pq_5IhEZtc"
      },
      "source": [
        "import pickle\n",
        "import os\n",
        "import torch\n",
        "import torch.nn as nn\n",
        "import numpy as np\n",
        "\n",
        "from torch.utils.data import Dataset,DataLoader, random_split"
      ],
      "execution_count": null,
      "outputs": []
    },
    {
      "cell_type": "markdown",
      "metadata": {
        "id": "Qv6dO6zU2AKR"
      },
      "source": [
        "Reading Data from file"
      ]
    },
    {
      "cell_type": "code",
      "metadata": {
        "id": "cZuBKk5hRb_C"
      },
      "source": [
        "datapath = os.path.join(base_dir,'data_train.pkl')\n",
        "\n",
        "with open(datapath, 'rb') as f: \n",
        "    data_train = pickle.load(f)\n",
        "\n",
        "# print(data_train.keys()) \n",
        "\n",
        "# pts2d_1 = data_train['joint_2d_1']\n",
        "# pts2d_2 = data_train['joint_2d_2']\n",
        "# rot = data_train['rot']\n",
        "# transl = data_train['transl']\n",
        "# focal_len_1 = data_train['focal_len_1']\n",
        "# focal_len_2 = data_train['focal_len_2']\n",
        "# pts3d = data_train['joint_3d']\n"
      ],
      "execution_count": null,
      "outputs": []
    },
    {
      "cell_type": "markdown",
      "metadata": {
        "id": "gSj109rH2FlK"
      },
      "source": [
        "Dataset Class"
      ]
    },
    {
      "cell_type": "code",
      "metadata": {
        "id": "PBwq-VBbocXs"
      },
      "source": [
        "class data(Dataset):\n",
        "\n",
        "    def __init__(self, base_dir):\n",
        "  \n",
        "        self.base_dir = base_dir\n",
        "        datapath = os.path.join(base_dir,'data_train.pkl')\n",
        "\n",
        "        with open(datapath, 'rb') as f: \n",
        "            data_train = pickle.load(f)\n",
        "\n",
        "        self.length = len(data_train['joint_3d'])\n",
        "\n",
        "    def __len__(self):\n",
        "        return self.length\n",
        "\n",
        "    def __getitem__(self, idx):\n",
        "        \n",
        "        pts2d_1 = data_train['joint_2d_1'][idx]\n",
        "        pts2d_2 = data_train['joint_2d_2'][idx]\n",
        "        rot = data_train['rot'][idx]\n",
        "        transl = data_train['transl'][idx]\n",
        "        focal_len_2 = data_train['focal_len_2'][idx]\n",
        "        target = {\"pts2d\": pts2d_2,\"rot\": rot, \"transl\":transl,\"focal_len_2\":focal_len_2}\n",
        "\n",
        "        return pts2d_1,target"
      ],
      "execution_count": null,
      "outputs": []
    },
    {
      "cell_type": "markdown",
      "metadata": {
        "id": "6qGP8B352IXa"
      },
      "source": [
        "Model"
      ]
    },
    {
      "cell_type": "code",
      "metadata": {
        "id": "NpB3hKFwoUz4"
      },
      "source": [
        "class LiftModel(nn.Module):\n",
        "\n",
        "  def __init__(self,n_blocks=2, hidden_layer=1024, dropout=0.1, output_nodes=15*3):\n",
        "    super(LiftModel, self).__init__()\n",
        "    self.n_blocks = n_blocks\n",
        "    self.hidden_layer = hidden_layer\n",
        "    self.dropout = dropout\n",
        "    self.output_nodes = output_nodes\n",
        "    self.input_nodes = 15*2\n",
        "\n",
        "    self.linear0 = nn.Linear(self.input_nodes, 1024)\n",
        "\n",
        "    self.blocks = nn.ModuleList()\n",
        "\n",
        "    self.block = nn.Sequential( \n",
        "        nn.Linear(1024,1024),\n",
        "        nn.BatchNorm1d(1024),\n",
        "        nn.ReLU(),\n",
        "        nn.Dropout(self.dropout),\n",
        "        nn.Linear(1024,1024),\n",
        "        nn.BatchNorm1d(1024),\n",
        "        nn.ReLU(),\n",
        "        nn.Dropout(self.dropout)\n",
        "        )\n",
        "    \n",
        "    for i in range(self.n_blocks):\n",
        "      self.blocks.append(self.block)\n",
        "  \n",
        "    self.output = nn.Linear(1024,self.output_nodes)\n",
        "\n",
        "  def forward(self,x):\n",
        "      x = x.view(-1,30)\n",
        "      x = self.linear0(x)\n",
        "      for i in range(self.n_blocks):\n",
        "        x = self.blocks[i](x)\n",
        "\n",
        "      x = self.output(x)\n",
        "      x = x.view(-1,15,3)\n",
        "      \n",
        "      return x"
      ],
      "execution_count": null,
      "outputs": []
    },
    {
      "cell_type": "code",
      "metadata": {
        "id": "bnzZEANaqUdD"
      },
      "source": [
        "device = 'cuda' if torch.cuda.is_available() else 'cpu'\n",
        "\n",
        "model = LiftModel()\n",
        "model = model.to(device)"
      ],
      "execution_count": null,
      "outputs": []
    },
    {
      "cell_type": "markdown",
      "metadata": {
        "id": "_eGgMIFh2WYz"
      },
      "source": [
        "Loss Function"
      ]
    },
    {
      "cell_type": "code",
      "metadata": {
        "id": "BQubF3B6rqLS"
      },
      "source": [
        "def cal_mpjpe(pose_1, pose_2, avg=True):\n",
        "    n_joints = pose_1.shape[1]\n",
        "    batch_size = pose_1.shape[0]\n",
        "    pose_1 = pose_1.clone().reshape(batch_size, n_joints, 2)\n",
        "    pose_2 = pose_2.clone().reshape(batch_size, n_joints, 2)\n",
        "    diff = pose_1-pose_2\n",
        "    diff_sq = diff ** 2\n",
        "    dist_per_joint = torch.sqrt(torch.sum(diff_sq, axis=2))\n",
        "    dist_per_sample = torch.mean(dist_per_joint, axis=1)\n",
        "    if avg is True:\n",
        "        dist_avg = torch.mean(dist_per_sample)\n",
        "    else:\n",
        "        dist_avg = dist_per_sample\n",
        "    return dist_avg"
      ],
      "execution_count": null,
      "outputs": []
    },
    {
      "cell_type": "markdown",
      "metadata": {
        "id": "BcbkzcZL2bED"
      },
      "source": [
        "Training Section"
      ]
    },
    {
      "cell_type": "code",
      "metadata": {
        "id": "qZjxZDEKq0Re"
      },
      "source": [
        "def train(model,train_loader,optimizer):\n",
        "  epoch_loss = 0\n",
        "\n",
        "  model.train()\n",
        "\n",
        "  for input,target in train_loader:\n",
        "    \n",
        "    input = input.to(device)\n",
        "    #target = target.to(device)\n",
        "\n",
        "    predicted = model(input)\n",
        "\n",
        "    pts2d_b = target[\"pts2d\"]\n",
        "    rot = target[\"rot\"]\n",
        "    transl = target[\"transl\"]\n",
        "    focal_len= target[\"focal_len_2\"]\n",
        "    \n",
        "    pts2d_b = torch.from_numpy(np.asarray(pts2d_b))\n",
        "\n",
        "    rot = torch.from_numpy(np.reshape(np.asarray(rot),(-1,3,3)))\n",
        "    transl = torch.from_numpy(np.repeat(np.asarray(transl[:,:,np.newaxis]),15,axis=2) )\n",
        "    focal_len_2 = torch.from_numpy(np.repeat(np.asarray(focal_len[:,:,np.newaxis]),15,axis=2))\n",
        "    predicted = torch.transpose(predicted,2,1).cpu()\n",
        "\n",
        "    estim = rot@predicted - transl\n",
        "    estim1 = estim.clone()\n",
        "    estim1[:,0,:] = (estim[:,0,:]*focal_len_2[:,0])/estim[:,2,:]\n",
        "    estim1[:,1,:] = (estim[:,1,:]*focal_len_2[:,1])/estim[:,2,:]\n",
        "    est_pts2d = estim1[:,0:2,:]\n",
        "    est_pts2d = torch.transpose(est_pts2d,2,1)\n",
        "\n",
        "    loss = cal_mpjpe((est_pts2d),(pts2d_b))\n",
        "    \n",
        "\n",
        "    optimizer.zero_grad()\n",
        "    loss.backward(retain_graph=True)\n",
        "    optimizer.step()\n",
        "    #scheduler.step()\n",
        "\n",
        "    epoch_loss += loss.item()\n",
        "\n",
        "  return epoch_loss / len(train_loader)"
      ],
      "execution_count": null,
      "outputs": []
    },
    {
      "cell_type": "code",
      "metadata": {
        "id": "rFoGX3DGq37K"
      },
      "source": [
        "def validation(model,valid_loader):\n",
        "  epoch_loss = 0\n",
        "\n",
        "  model.eval()\n",
        "\n",
        "  with torch.no_grad():\n",
        "\n",
        "    for input,target in valid_loader:\n",
        "\n",
        "      input = input.to(device)\n",
        "      predicted = model(input)\n",
        "\n",
        "      pts2d_b = target[\"pts2d\"]\n",
        "      rot = target[\"rot\"]\n",
        "      transl = target[\"transl\"]\n",
        "      focal_len= target[\"focal_len_2\"]\n",
        "      \n",
        "      pts2d_b = torch.from_numpy(np.asarray(pts2d_b))\n",
        "\n",
        "      rot = torch.from_numpy(np.reshape(np.asarray(rot),(-1,3,3)))\n",
        "      transl = torch.from_numpy(np.repeat(np.asarray(transl[:,:,np.newaxis]),15,axis=2) )\n",
        "      focal_len_2 = torch.from_numpy(np.repeat(np.asarray(focal_len[:,:,np.newaxis]),15,axis=2))\n",
        "      predicted = torch.transpose(predicted,2,1).cpu()\n",
        "\n",
        "      estim = rot@predicted - transl\n",
        "      estim1 = estim.clone()\n",
        "      estim1[:,0,:] = (estim[:,0,:]*focal_len_2[:,0])/estim[:,2,:]\n",
        "      estim1[:,1,:] = (estim[:,1,:]*focal_len_2[:,1])/estim[:,2,:]\n",
        "      est_pts2d = estim1[:,0:2,:]\n",
        "      est_pts2d = torch.transpose(est_pts2d,2,1)\n",
        "\n",
        "      loss = cal_mpjpe((est_pts2d),(pts2d_b))\n",
        "\n",
        "      epoch_loss += loss.item()\n",
        "  \n",
        "  return epoch_loss / len(valid_loader)"
      ],
      "execution_count": null,
      "outputs": []
    },
    {
      "cell_type": "code",
      "metadata": {
        "id": "mhvMbyvnzMv3"
      },
      "source": [
        "def run_epoch(epoch_no, data, model, optimiser, scheduler, batch_size=64, split='train'):\n",
        "\n",
        "  n_val = int(len(data) * 0.1)\n",
        "  n_train = len(data) - n_val\n",
        "  train_dataset, valid_dataset = random_split(data,[n_train, n_val])\n",
        "\n",
        "  train_loader = DataLoader(train_dataset,batch_size=batch_size,shuffle=True, drop_last=True, pin_memory= True,num_workers=8)\n",
        "  valid_loader = DataLoader(valid_dataset,batch_size=batch_size,shuffle=True, drop_last=True, pin_memory=True,num_workers=8)\n",
        "\n",
        "  train_loss_history = []\n",
        "  valid_loss_history = []\n",
        "\n",
        "  for epoch in range(epoch_no):\n",
        "\n",
        "    train_loss = train(model,train_loader,optimizer)\n",
        "    valid_loss = validation(model,valid_loader)\n",
        "\n",
        "    train_loss_history.append(train_loss)\n",
        "    valid_loss_history.append(valid_loss)\n",
        "\n",
        "    print(f'Epoch: {epoch+1:02}')\n",
        "    print(f'\\tTrain Loss: {train_loss:.3f}')\n",
        "    print(f'\\t Val. Loss: {valid_loss:.3f}')\n",
        "\n",
        "  torch.save({'model_state_dict':model.state_dict()}, os.path.join(base_dir,'bestModel.pt'))\n",
        "\n",
        "  return train_loss_history, valid_loss_history\n"
      ],
      "execution_count": null,
      "outputs": []
    },
    {
      "cell_type": "code",
      "metadata": {
        "id": "SzmYOsuMy2R6"
      },
      "source": [
        "from torch import optim\n",
        "\n",
        "learning_rate = 1e-3\n",
        "T_max = 100\n",
        "step_size = 50\n",
        "num_epochs = 50\n",
        "optimizer = optim.Adam(model.parameters(),lr = learning_rate)\n",
        "#scheduler = optim.lr_scheduler.CosineAnnealingLR(optimizer, T_max, eta_min=10e-6, last_epoch=-1)\n",
        "scheduler = optim.lr_scheduler.StepLR(optimizer, step_size, gamma=0.1, last_epoch=-1, verbose=False)\n",
        "\n",
        "dataset = data(base_dir)"
      ],
      "execution_count": null,
      "outputs": []
    },
    {
      "cell_type": "code",
      "metadata": {
        "colab": {
          "base_uri": "https://localhost:8080/"
        },
        "id": "0Ep20EBT0yWa",
        "outputId": "b11a9606-6d58-4fae-f621-c7d4539cb2bd"
      },
      "source": [
        "train_loss, val_loss = run_epoch(num_epochs,dataset,model,optimizer,scheduler)"
      ],
      "execution_count": null,
      "outputs": [
        {
          "output_type": "stream",
          "text": [
            "/usr/local/lib/python3.7/dist-packages/torch/utils/data/dataloader.py:477: UserWarning: This DataLoader will create 8 worker processes in total. Our suggested max number of worker in current system is 2, which is smaller than what this DataLoader is going to create. Please be aware that excessive worker creation might get DataLoader running slow or even freeze, lower the worker number to avoid potential slowness/freeze if necessary.\n",
            "  cpuset_checked))\n"
          ],
          "name": "stderr"
        },
        {
          "output_type": "stream",
          "text": [
            "Epoch: 01\n",
            "\tTrain Loss: 0.317\n",
            "\t Val. Loss: 0.229\n",
            "Epoch: 02\n",
            "\tTrain Loss: 0.270\n",
            "\t Val. Loss: 0.229\n",
            "Epoch: 03\n",
            "\tTrain Loss: 0.172\n",
            "\t Val. Loss: 0.229\n",
            "Epoch: 04\n",
            "\tTrain Loss: 0.167\n",
            "\t Val. Loss: 0.234\n",
            "Epoch: 05\n",
            "\tTrain Loss: 0.165\n",
            "\t Val. Loss: 0.231\n",
            "Epoch: 06\n",
            "\tTrain Loss: 0.163\n",
            "\t Val. Loss: 0.236\n",
            "Epoch: 07\n",
            "\tTrain Loss: 0.162\n",
            "\t Val. Loss: 0.238\n",
            "Epoch: 08\n",
            "\tTrain Loss: 0.161\n",
            "\t Val. Loss: 0.248\n",
            "Epoch: 09\n",
            "\tTrain Loss: 0.159\n",
            "\t Val. Loss: 0.256\n",
            "Epoch: 10\n",
            "\tTrain Loss: 0.158\n",
            "\t Val. Loss: 0.251\n",
            "Epoch: 11\n",
            "\tTrain Loss: 0.156\n",
            "\t Val. Loss: 0.241\n",
            "Epoch: 12\n",
            "\tTrain Loss: 0.154\n",
            "\t Val. Loss: 0.245\n",
            "Epoch: 13\n",
            "\tTrain Loss: 0.151\n",
            "\t Val. Loss: 0.251\n",
            "Epoch: 14\n",
            "\tTrain Loss: 0.147\n",
            "\t Val. Loss: 0.248\n",
            "Epoch: 15\n",
            "\tTrain Loss: 0.143\n",
            "\t Val. Loss: 0.249\n",
            "Epoch: 16\n",
            "\tTrain Loss: 0.138\n",
            "\t Val. Loss: 0.240\n",
            "Epoch: 17\n",
            "\tTrain Loss: 0.133\n",
            "\t Val. Loss: 0.239\n",
            "Epoch: 18\n",
            "\tTrain Loss: 0.127\n",
            "\t Val. Loss: 0.238\n",
            "Epoch: 19\n",
            "\tTrain Loss: 0.120\n",
            "\t Val. Loss: 0.229\n",
            "Epoch: 20\n",
            "\tTrain Loss: 0.112\n",
            "\t Val. Loss: 0.214\n",
            "Epoch: 21\n",
            "\tTrain Loss: 0.104\n",
            "\t Val. Loss: 0.217\n",
            "Epoch: 22\n",
            "\tTrain Loss: 0.095\n",
            "\t Val. Loss: 0.215\n",
            "Epoch: 23\n",
            "\tTrain Loss: 0.087\n",
            "\t Val. Loss: 0.223\n",
            "Epoch: 24\n",
            "\tTrain Loss: 0.080\n",
            "\t Val. Loss: 0.227\n",
            "Epoch: 25\n",
            "\tTrain Loss: 0.074\n",
            "\t Val. Loss: 0.224\n",
            "Epoch: 26\n",
            "\tTrain Loss: 0.068\n",
            "\t Val. Loss: 0.217\n",
            "Epoch: 27\n",
            "\tTrain Loss: 0.064\n",
            "\t Val. Loss: 0.216\n",
            "Epoch: 28\n",
            "\tTrain Loss: 0.059\n",
            "\t Val. Loss: 0.212\n",
            "Epoch: 29\n",
            "\tTrain Loss: 0.055\n",
            "\t Val. Loss: 0.205\n",
            "Epoch: 30\n",
            "\tTrain Loss: 0.052\n",
            "\t Val. Loss: 0.194\n",
            "Epoch: 31\n",
            "\tTrain Loss: 0.050\n",
            "\t Val. Loss: 0.196\n",
            "Epoch: 32\n",
            "\tTrain Loss: 0.048\n",
            "\t Val. Loss: 0.187\n",
            "Epoch: 33\n",
            "\tTrain Loss: 0.046\n",
            "\t Val. Loss: 0.179\n",
            "Epoch: 34\n",
            "\tTrain Loss: 0.044\n",
            "\t Val. Loss: 0.184\n",
            "Epoch: 35\n",
            "\tTrain Loss: 0.043\n",
            "\t Val. Loss: 0.185\n",
            "Epoch: 36\n",
            "\tTrain Loss: 0.042\n",
            "\t Val. Loss: 0.187\n",
            "Epoch: 37\n",
            "\tTrain Loss: 0.041\n",
            "\t Val. Loss: 0.185\n",
            "Epoch: 38\n",
            "\tTrain Loss: 0.040\n",
            "\t Val. Loss: 0.188\n",
            "Epoch: 39\n",
            "\tTrain Loss: 0.039\n",
            "\t Val. Loss: 0.179\n",
            "Epoch: 40\n",
            "\tTrain Loss: 0.039\n",
            "\t Val. Loss: 0.180\n",
            "Epoch: 41\n",
            "\tTrain Loss: 0.038\n",
            "\t Val. Loss: 0.184\n",
            "Epoch: 42\n",
            "\tTrain Loss: 0.038\n",
            "\t Val. Loss: 0.186\n",
            "Epoch: 43\n",
            "\tTrain Loss: 0.037\n",
            "\t Val. Loss: 0.185\n",
            "Epoch: 44\n",
            "\tTrain Loss: 0.037\n",
            "\t Val. Loss: 0.179\n",
            "Epoch: 45\n",
            "\tTrain Loss: 0.036\n",
            "\t Val. Loss: 0.179\n",
            "Epoch: 46\n",
            "\tTrain Loss: 0.036\n",
            "\t Val. Loss: 0.181\n",
            "Epoch: 47\n",
            "\tTrain Loss: 0.036\n",
            "\t Val. Loss: 0.179\n",
            "Epoch: 48\n",
            "\tTrain Loss: 0.035\n",
            "\t Val. Loss: 0.177\n",
            "Epoch: 49\n",
            "\tTrain Loss: 0.035\n",
            "\t Val. Loss: 0.175\n",
            "Epoch: 50\n",
            "\tTrain Loss: 0.035\n",
            "\t Val. Loss: 0.177\n"
          ],
          "name": "stdout"
        }
      ]
    },
    {
      "cell_type": "markdown",
      "metadata": {
        "id": "-e7Cl2u72fbG"
      },
      "source": [
        "Training loss vs Validation Loss"
      ]
    },
    {
      "cell_type": "code",
      "metadata": {
        "id": "zVd8OfO7dVgx",
        "colab": {
          "base_uri": "https://localhost:8080/",
          "height": 296
        },
        "outputId": "5d9cbc7a-7e7a-49d8-a389-142ed515ccae"
      },
      "source": [
        "#num_epochs = len(val_loss)\n",
        "import matplotlib.pyplot as plt\n",
        "\n",
        "x = range(0,num_epochs)\n",
        "fig = plt.figure()\n",
        "ax = fig.add_subplot(111)\n",
        "ax.plot(x,train_loss, label='train_loss')\n",
        "ax.plot(x,val_loss, label='val_loss')\n",
        "leg1 = ax.legend(loc='upper left')\n",
        "ax.set_ylabel('Loss')\n",
        "ax.set_xlabel('epoch')"
      ],
      "execution_count": null,
      "outputs": [
        {
          "output_type": "execute_result",
          "data": {
            "text/plain": [
              "Text(0.5, 0, 'epoch')"
            ]
          },
          "metadata": {
            "tags": []
          },
          "execution_count": 13
        },
        {
          "output_type": "display_data",
          "data": {
            "image/png": "[encoded data removed]",
            "text/plain": [
              "<Figure size 432x288 with 1 Axes>"
            ]
          },
          "metadata": {
            "tags": [],
            "needs_background": "light"
          }
        }
      ]
    }
  ]
}