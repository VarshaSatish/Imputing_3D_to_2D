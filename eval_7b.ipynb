{
  "nbformat": 4,
  "nbformat_minor": 0,
  "metadata": {
    "colab": {
      "name": "eval_7b.ipynb",
      "provenance": [],
      "collapsed_sections": []
    },
    "kernelspec": {
      "name": "python3",
      "display_name": "Python 3"
    },
    "language_info": {
      "name": "python"
    },
    "accelerator": "GPU"
  },
  "cells": [
    {
      "cell_type": "code",
      "metadata": {
        "colab": {
          "base_uri": "https://localhost:8080/"
        },
        "id": "rmgOYXsTlYJ-",
        "outputId": "0737cc16-f3d3-44c7-ca46-cdd2204998e5"
      },
      "source": [
        "from google.colab import drive\n",
        "drive.mount('/content/drive', force_remount=True)\n",
        "\n",
        "base_dir = \"/content/drive/My Drive\""
      ],
      "execution_count": null,
      "outputs": [
        {
          "output_type": "stream",
          "text": [
            "Mounted at /content/drive\n"
          ],
          "name": "stdout"
        }
      ]
    },
    {
      "cell_type": "code",
      "metadata": {
        "id": "s96iO3Gwo2JO"
      },
      "source": [
        "import torch\n",
        "import torch.nn as nn\n",
        "import pickle\n",
        "import os\n",
        "from torch.utils.data import DataLoader,Dataset\n",
        "\n",
        "import numpy as np"
      ],
      "execution_count": null,
      "outputs": []
    },
    {
      "cell_type": "code",
      "metadata": {
        "id": "ogXAfXnIoQ1S"
      },
      "source": [
        "class data(Dataset):\n",
        "\n",
        "    def __init__(self, base_dir):\n",
        "  \n",
        "        self.base_dir = base_dir\n",
        "        datapath = os.path.join(base_dir,'data_train.pkl')\n",
        "\n",
        "        with open(datapath, 'rb') as f: \n",
        "            data_train = pickle.load(f)\n",
        "\n",
        "        self.length = len(data_train['joint_3d'])\n",
        "\n",
        "        self.pts2d = data_train['joint_2d_1']\n",
        "        self.pts3d = data_train['joint_3d']\n",
        "\n",
        "    def __len__(self):\n",
        "        return self.length\n",
        "\n",
        "    def __getitem__(self, idx):\n",
        "        \n",
        "        pts2di = self.pts2d[idx]\n",
        "        pts3di = self.pts3d[idx]\n",
        "\n",
        "        return pts2di,pts3di"
      ],
      "execution_count": null,
      "outputs": []
    },
    {
      "cell_type": "code",
      "metadata": {
        "id": "IVLLYGjmnjv2"
      },
      "source": [
        "def cal_mpjpe(pose_1, pose_2, avg=True):\n",
        "    n_joints = pose_1.shape[1]\n",
        "    batch_size = pose_1.shape[0]\n",
        "    pose_1 = pose_1.clone().reshape(batch_size, n_joints, 3)\n",
        "    pose_2 = pose_2.clone().reshape(batch_size, n_joints, 3)\n",
        "    diff = pose_1-pose_2\n",
        "    diff_sq = diff ** 2\n",
        "    dist_per_joint = torch.sqrt(torch.sum(diff_sq, axis=2))\n",
        "    dist_per_sample = torch.mean(dist_per_joint, axis=1)\n",
        "    if avg is True:\n",
        "        dist_avg = torch.mean(dist_per_sample)\n",
        "    else:\n",
        "        dist_avg = dist_per_sample\n",
        "    return dist_avg"
      ],
      "execution_count": null,
      "outputs": []
    },
    {
      "cell_type": "code",
      "metadata": {
        "id": "9rXVZ4wvpdjr"
      },
      "source": [
        "data_test = data(base_dir)\n",
        "\n",
        "data_test = DataLoader(data_test,batch_size=64,shuffle=True, drop_last=False, pin_memory= True,num_workers=0)"
      ],
      "execution_count": null,
      "outputs": []
    },
    {
      "cell_type": "code",
      "metadata": {
        "id": "t999xKdvlNml"
      },
      "source": [
        "class LiftModel(nn.Module):\n",
        "\n",
        "  def __init__(self,n_blocks=2, hidden_layer=1024, dropout=0.1, output_nodes=15*3):\n",
        "    super(LiftModel, self).__init__()\n",
        "    self.n_blocks = n_blocks\n",
        "    self.hidden_layer = hidden_layer\n",
        "    self.dropout = dropout\n",
        "    self.output_nodes = output_nodes\n",
        "    self.input_nodes = 15*2\n",
        "\n",
        "    self.linear0 = nn.Linear(self.input_nodes, 1024)\n",
        "\n",
        "    self.blocks = nn.ModuleList()\n",
        "\n",
        "    self.block = nn.Sequential( \n",
        "        nn.Linear(1024,1024),\n",
        "        nn.BatchNorm1d(1024),\n",
        "        nn.ReLU(),\n",
        "        nn.Dropout(self.dropout),\n",
        "        nn.Linear(1024,1024),\n",
        "        nn.BatchNorm1d(1024),\n",
        "        nn.ReLU(),\n",
        "        nn.Dropout(self.dropout)\n",
        "        )\n",
        "    \n",
        "    for i in range(self.n_blocks):\n",
        "      self.blocks.append(self.block)\n",
        "  \n",
        "    self.output = nn.Linear(1024,self.output_nodes)\n",
        "\n",
        "  def forward(self,x):\n",
        "      x = x.view(-1,30)\n",
        "      x = self.linear0(x)\n",
        "      for i in range(self.n_blocks):\n",
        "        x = self.blocks[i](x)\n",
        "\n",
        "      x = self.output(x)\n",
        "      x = x.view(-1,15,3)\n",
        "      \n",
        "      return x\n",
        "\n",
        "device = 'cuda' if torch.cuda.is_available() else 'cpu'   \n",
        "\n",
        "model = LiftModel()\n",
        "model = model.to(device)\n",
        "model.load_state_dict(torch.load(os.path.join(base_dir,'bestModel.pt')),strict=False)\n",
        "\n",
        "# if (torch.cuda.is_available()):\n",
        "#   #checkpoint=torch.load(os.path.join(base_dir,'model_parameters'))\n",
        "#   model.load_state_dict(torch.load(os.path.join(base_dir,'model_3')))\n",
        "# else:\n",
        "#   #checkpoint=torch.load(os.path.join(base_dir,'model_parameters'), map_location=torch.device('cpu'))\n",
        "#   model.load_state_dict(torch.load(os.path.join(base_dir,'model_parameters_b'), map_location=torch.device('cpu')))\n",
        "\n",
        "\n",
        "total_loss = 0\n",
        "output = []\n",
        "model.eval()\n",
        "for input,target in data_test:\n",
        "  input = input.to(device)\n",
        "  target = target.to(device)\n",
        "  predicted = model(input)\n",
        "  loss = cal_mpjpe(predicted.to(device),target)\n",
        "\n",
        "  total_loss+= loss.item()\n",
        "  output.extend(predicted)\n",
        "\n",
        "total_loss = total_loss / len(data_test)\n"
      ],
      "execution_count": null,
      "outputs": []
    },
    {
      "cell_type": "code",
      "metadata": {
        "colab": {
          "base_uri": "https://localhost:8080/"
        },
        "id": "C6iqeNGErV2d",
        "outputId": "91baf446-226a-457e-cb47-8a8b2ec9bd56"
      },
      "source": [
        "#print(total_loss,len(output))\n",
        "print('Loss =',total_loss)"
      ],
      "execution_count": null,
      "outputs": [
        {
          "output_type": "stream",
          "text": [
            "Loss = 1.147617555250887\n"
          ],
          "name": "stdout"
        }
      ]
    }
  ]
}